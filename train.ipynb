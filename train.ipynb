{
 "cells": [
  {
   "cell_type": "code",
   "execution_count": 1,
   "metadata": {},
   "outputs": [],
   "source": [
    "from model.doer import Coextractor\n",
    "from model.feature_extractor import FeatureExtractor\n",
    "from datetime import timedelta\n",
    "from utils import load_data, prep_train_data, load_lexicon\n",
    "from sklearn.model_selection import train_test_split\n",
    "import argparse\n",
    "import numpy as np\n",
    "from config import Config\n",
    "import time"
   ]
  },
  {
   "cell_type": "code",
   "execution_count": 2,
   "metadata": {},
   "outputs": [],
   "source": [
    "train_data = 'dataset/annotated/train_small.txt'\n",
    "test_data = 'dataset/annotated/test_small.txt'\n",
    "mpqa_lexicon_data = 'dataset/annotated/mpqa_lexicon.txt'\n",
    "general_embedding_model = '../word_embedding/general_embedding/general_embedding_300.model'\n",
    "domain_embedding_model = '../word_embedding/domain_embedding/domain_embedding_100.model'\n",
    "config = Config()\n",
    "config.mpqa_lexicon = load_lexicon(mpqa_lexicon_data)"
   ]
  },
  {
   "cell_type": "code",
   "execution_count": 3,
   "metadata": {},
   "outputs": [],
   "source": [
    "X, y = load_data(train_data)\n",
    "X, y = X[:64], y[:64]\n",
    "X_test, y_test = load_data(test_data)\n",
    "sentences = X_test\n",
    "X_train, X_val, y_train, y_val = train_test_split(X, y, test_size=0.25, random_state=42)\n",
    "\n",
    "feature_extractor = FeatureExtractor(general_embedding_model, domain_embedding_model, general_dim=config.dim_general, domain_dim=config.dim_domain)\n",
    "\n",
    "X_train, y_train = prep_train_data(X_train, y_train, feature_extractor, feature='double_embedding', config=config)\n",
    "\n",
    "X_test = feature_extractor.get_features(X_test, max_len=config.max_sentence_size)\n",
    "X_val2 = feature_extractor.get_features(X_val, max_len=config.max_sentence_size)\n",
    "X_val, y_val2 = prep_train_data(X_val, y_val, feature_extractor, feature='double_embedding', config=config)"
   ]
  },
  {
   "cell_type": "code",
   "execution_count": null,
   "metadata": {},
   "outputs": [],
   "source": []
  },
  {
   "cell_type": "code",
   "execution_count": 2,
   "metadata": {},
   "outputs": [],
   "source": [
    "sentence = ['ac', 'nya', 'tidak', 'dingin', '.', 'kamar', 'sempit', 'tapi', 'wajar', 'untuk', 'harga', 'segitu']\n",
    "ate_label = ['B-ASPECT', 'I-ASPECT', 'B-SENTIMENT', 'I-SENTIMENT', 'O', 'B-ASPECT', 'B-SENTIMENT', 'O', 'O', 'O', 'O', 'O']\n",
    "asc_label = ['NG', 'NG', 'O', 'O', 'O', 'NG', 'O', 'O', 'O', 'O', 'O', 'O']\n",
    "label = [ate_label, asc_label]"
   ]
  },
  {
   "cell_type": "code",
   "execution_count": 22,
   "metadata": {},
   "outputs": [],
   "source": [
    "def get_aspect_term_positions(ate_labels):\n",
    "    aspect_pos = []\n",
    "    curr_label_pos = []\n",
    "    prev_label = ''\n",
    "    \n",
    "    for i in range(len(ate_label)):\n",
    "        if ate_label[i] == 'B-ASPECT':\n",
    "            if prev_label == 'B-ASPECT':\n",
    "                aspect_pos.append(curr_label_pos)\n",
    "                curr_label_pos = []\n",
    "            curr_label_pos.append(i)\n",
    "        elif ate_label[i] == 'I-ASPECT' and (prev_label == 'B-ASPECT' or prev_label == 'I-ASPECT'):\n",
    "            curr_label_pos.append(i)\n",
    "        else:\n",
    "            if (curr_label_pos != []):\n",
    "                aspect_pos.append(curr_label_pos)\n",
    "                curr_label_pos = []\n",
    "        prev_label = ate_label[i]\n",
    "    \n",
    "    if prev_label\n",
    "    \n",
    "    \n",
    "    return aspect_pos\n",
    "\n",
    "\n",
    "def generate_aspect_sentiment_polarity_triple(labels):\n",
    "    ate_labels, asc_labels = labels\n",
    "    aspect_pos = get_aspect_term_positions(ate_labels)\n",
    "    \n",
    "    return aspect_pos"
   ]
  },
  {
   "cell_type": "code",
   "execution_count": 23,
   "metadata": {},
   "outputs": [
    {
     "name": "stdout",
     "output_type": "stream",
     "text": [
      "\n",
      "B-ASPECT\n",
      "I-ASPECT\n",
      "B-SENTIMENT\n",
      "I-SENTIMENT\n",
      "O\n",
      "B-ASPECT\n",
      "B-SENTIMENT\n",
      "O\n",
      "O\n",
      "O\n",
      "O\n",
      "[[0, 1], [5]]\n"
     ]
    }
   ],
   "source": [
    "print(generate_aspect_sentiment_polarity_triple(label))"
   ]
  },
  {
   "cell_type": "code",
   "execution_count": null,
   "metadata": {},
   "outputs": [],
   "source": []
  }
 ],
 "metadata": {
  "kernelspec": {
   "display_name": "Python 3",
   "language": "python",
   "name": "python3"
  },
  "language_info": {
   "codemirror_mode": {
    "name": "ipython",
    "version": 3
   },
   "file_extension": ".py",
   "mimetype": "text/x-python",
   "name": "python",
   "nbconvert_exporter": "python",
   "pygments_lexer": "ipython3",
   "version": "3.5.3"
  }
 },
 "nbformat": 4,
 "nbformat_minor": 4
}
