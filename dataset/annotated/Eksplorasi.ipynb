{
 "cells": [
  {
   "cell_type": "code",
   "execution_count": 1,
   "metadata": {},
   "outputs": [],
   "source": [
    "import numpy as np\n",
    "import matplotlib.pyplot as plt"
   ]
  },
  {
   "cell_type": "code",
   "execution_count": 2,
   "metadata": {},
   "outputs": [],
   "source": [
    "def load_data(filename):\n",
    "    data, labels = [], []\n",
    "    with open(filename, encoding='utf-8') as f:\n",
    "        tokens, asp_sent_term_tags, polarity_tags = [], [], []\n",
    "        for line in f:\n",
    "            line = line.rstrip()\n",
    "            if line:\n",
    "                line_arr = line.split('\\t')\n",
    "                if len(line_arr) > 1:\n",
    "                    token = line_arr[2]\n",
    "                    asp_sent_term_tag = line_arr[3]\n",
    "                    polarity_tag = line_arr[4]\n",
    "                    tokens.append(token)\n",
    "                    asp_sent_term_tags.append(asp_sent_term_tag)\n",
    "                    polarity_tags.append(polarity_tag)\n",
    "                else:\n",
    "                    continue\n",
    "            else:\n",
    "                data.append(tokens)\n",
    "                labels.append([asp_sent_term_tags, polarity_tags])\n",
    "                tokens, asp_sent_term_tags, polarity_tags = [], [], []\n",
    "    return data, labels"
   ]
  },
  {
   "cell_type": "code",
   "execution_count": 3,
   "metadata": {},
   "outputs": [],
   "source": [
    "data, labels = load_data(\"train_4k_output_Mar_19_2020.txt\")\n",
    "length = []\n",
    "for datum in data:\n",
    "    length.append(len(datum))"
   ]
  },
  {
   "cell_type": "code",
   "execution_count": 4,
   "metadata": {},
   "outputs": [
    {
     "data": {
      "text/plain": [
       "array([ 0, 17,  7, ..., 22, 52,  4])"
      ]
     },
     "execution_count": 4,
     "metadata": {},
     "output_type": "execute_result"
    }
   ],
   "source": [
    "np.asarray(length)"
   ]
  },
  {
   "cell_type": "code",
   "execution_count": 5,
   "metadata": {},
   "outputs": [
    {
     "data": {
      "text/plain": [
       "(array([1.905e+03, 1.320e+03, 4.640e+02, 1.680e+02, 6.700e+01, 5.600e+01,\n",
       "        1.500e+01, 4.000e+00, 1.000e+00, 1.000e+00]),\n",
       " array([  0. ,  11.4,  22.8,  34.2,  45.6,  57. ,  68.4,  79.8,  91.2,\n",
       "        102.6, 114. ]),\n",
       " <a list of 10 Patch objects>)"
      ]
     },
     "execution_count": 5,
     "metadata": {},
     "output_type": "execute_result"
    },
    {
     "data": {
      "image/png": "[encoded data removed]",
      "text/plain": [
       "<Figure size 432x288 with 1 Axes>"
      ]
     },
     "metadata": {
      "needs_background": "light"
     },
     "output_type": "display_data"
    }
   ],
   "source": [
    "plt.hist(length)"
   ]
  },
  {
   "cell_type": "code",
   "execution_count": 6,
   "metadata": {},
   "outputs": [
    {
     "name": "stdout",
     "output_type": "stream",
     "text": [
      "200\n"
     ]
    }
   ],
   "source": [
    "count = 0\n",
    "for i in range(len(length)):\n",
    "    if length[i] > 40 and length[i] <= 75:\n",
    "        count += 1\n",
    "print(count)"
   ]
  },
  {
   "cell_type": "code",
   "execution_count": 12,
   "metadata": {},
   "outputs": [
    {
     "data": {
      "text/plain": [
       "array([[0.16255641, 0.81228022, 0.64708425, 0.96689475, 0.8781487 ],\n",
       "       [0.9099266 , 0.62425084, 0.84436208, 0.19195214, 0.02776527],\n",
       "       [0.44250071, 0.2392811 , 0.39833317, 0.93405411, 0.47463268],\n",
       "       [0.86816101, 0.15206666, 0.32266143, 0.33853552, 0.4231079 ]])"
      ]
     },
     "execution_count": 12,
     "metadata": {},
     "output_type": "execute_result"
    }
   ],
   "source": [
    "co =  np.random.rand(4,5)\n",
    "co"
   ]
  },
  {
   "cell_type": "code",
   "execution_count": 13,
   "metadata": {},
   "outputs": [
    {
     "data": {
      "text/plain": [
       "array([3, 0, 3, 0])"
      ]
     },
     "execution_count": 13,
     "metadata": {},
     "output_type": "execute_result"
    }
   ],
   "source": [
    "yate_pred = np.argmax(co, 1)\n",
    "yate_pred"
   ]
  },
  {
   "cell_type": "code",
   "execution_count": 14,
   "metadata": {},
   "outputs": [
    {
     "data": {
      "text/plain": [
       "array([[0.16255641, 0.81228022, 0.64708425, 0.96689475, 0.8781487 ],\n",
       "       [0.9099266 , 0.62425084, 0.84436208, 0.19195214, 0.02776527]])"
      ]
     },
     "execution_count": 14,
     "metadata": {},
     "output_type": "execute_result"
    }
   ],
   "source": [
    "co[:2]"
   ]
  },
  {
   "cell_type": "code",
   "execution_count": null,
   "metadata": {},
   "outputs": [],
   "source": []
  }
 ],
 "metadata": {
  "kernelspec": {
   "display_name": "Python 3",
   "language": "python",
   "name": "python3"
  },
  "language_info": {
   "codemirror_mode": {
    "name": "ipython",
    "version": 3
   },
   "file_extension": ".py",
   "mimetype": "text/x-python",
   "name": "python",
   "nbconvert_exporter": "python",
   "pygments_lexer": "ipython3",
   "version": "3.5.3"
  }
 },
 "nbformat": 4,
 "nbformat_minor": 4
}
