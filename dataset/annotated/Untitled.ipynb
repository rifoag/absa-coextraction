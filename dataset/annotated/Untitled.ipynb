{
 "cells": [
  {
   "cell_type": "code",
   "execution_count": 1,
   "metadata": {},
   "outputs": [],
   "source": [
    "import numpy as np\n",
    "import matplotlib.pyplot as plt"
   ]
  },
  {
   "cell_type": "code",
   "execution_count": 3,
   "metadata": {},
   "outputs": [],
   "source": [
    "def load_data(filename):\n",
    "    data, labels = [], []\n",
    "    with open(filename, encoding='utf-8') as f:\n",
    "        tokens, asp_sent_term_tags, polarity_tags = [], [], []\n",
    "        for line in f:\n",
    "            line = line.rstrip()\n",
    "            if line:\n",
    "                line_arr = line.split('\\t')\n",
    "                if len(line_arr) > 1:\n",
    "                    token = line_arr[2]\n",
    "                    asp_sent_term_tag = line_arr[3]\n",
    "                    polarity_tag = line_arr[4]\n",
    "                    tokens.append(token)\n",
    "                    asp_sent_term_tags.append(asp_sent_term_tag)\n",
    "                    polarity_tags.append(polarity_tag)\n",
    "                else:\n",
    "                    continue\n",
    "            else:\n",
    "                data.append(tokens)\n",
    "                labels.append([asp_sent_term_tags, polarity_tags])\n",
    "                tokens, asp_sent_term_tags, polarity_tags = [], [], []\n",
    "    return data, labels"
   ]
  },
  {
   "cell_type": "code",
   "execution_count": 5,
   "metadata": {},
   "outputs": [],
   "source": [
    "data, labels = load_data(\"train_4k_output_Mar_19_2020.txt\")\n",
    "length = []\n",
    "for datum in data:\n",
    "    length.append(len(datum))"
   ]
  },
  {
   "cell_type": "code",
   "execution_count": 6,
   "metadata": {},
   "outputs": [
    {
     "data": {
      "text/plain": [
       "array([ 0, 17,  7, ..., 22, 52,  4])"
      ]
     },
     "execution_count": 6,
     "metadata": {},
     "output_type": "execute_result"
    }
   ],
   "source": [
    "np.asarray(length)"
   ]
  },
  {
   "cell_type": "code",
   "execution_count": 8,
   "metadata": {},
   "outputs": [
    {
     "data": {
      "text/plain": [
       "(array([1.905e+03, 1.320e+03, 4.640e+02, 1.680e+02, 6.700e+01, 5.600e+01,\n",
       "        1.500e+01, 4.000e+00, 1.000e+00, 1.000e+00]),\n",
       " array([  0. ,  11.4,  22.8,  34.2,  45.6,  57. ,  68.4,  79.8,  91.2,\n",
       "        102.6, 114. ]),\n",
       " <a list of 10 Patch objects>)"
      ]
     },
     "execution_count": 8,
     "metadata": {},
     "output_type": "execute_result"
    },
    {
     "data": {
      "image/png": "[encoded data removed]",
      "text/plain": [
       "<Figure size 432x288 with 1 Axes>"
      ]
     },
     "metadata": {
      "needs_background": "light"
     },
     "output_type": "display_data"
    }
   ],
   "source": [
    "plt.hist(length)"
   ]
  },
  {
   "cell_type": "code",
   "execution_count": 19,
   "metadata": {},
   "outputs": [
    {
     "name": "stdout",
     "output_type": "stream",
     "text": [
      "['aku', 'puas', 'banget', 'dengan', 'hotel', 'pakai', 'airy', 'di', 'bangka', '.', 'aku', 'pikir', 'jenis', 'dan', 'standar', 'hotelnya', 'mirip', 'seperti', 'begitu', '.', 'ternyata', 'beda', 'banget', 'dengan', 'hotel', 'ini', '.', '1', '.', 'hotel', 'ini', 'tiga', 'tingkat', 'tetapi', 'tidak', 'ada', 'lift', '2', '.', 'tidak', 'ada', 'petugas', 'buat', 'angkat', 'koper', '3', '.', 'tidak', 'ada', 'restorant', '.', 'intinya', 'tmp', 'ini', 'tidak', 'pantes', 'di', 'sebut', 'sebagai', 'hotel', '.', 'lebih', 'pantas', 'kalau', 'disebut', '\"', 'kos', 'kosan', 'harian', '\"', '.']\n",
      "\n",
      "[['_', '_', '_', '_', '_', '_', '_', '_', '_', '_', '_', '_', '_', '_', '_', '_', '_', '_', '_', '_', '_', '_', '_', '_', '_', '_', '_', '_', '_', '_', '_', '_', '_', '_', 'SENTIMENT[7323]', 'SENTIMENT[7323]', 'ASPECT[7320]', '_', '_', 'SENTIMENT[7324]', 'SENTIMENT[7324]', 'ASPECT[7321]', '_', '_', '_', '_', '_', 'SENTIMENT[7325]', 'SENTIMENT[7325]', 'ASPECT[7322]', '_', '_', '_', '_', '_', '_', '_', '_', '_', '_', '_', '_', '_', '_', '_', '_', '_', '_', '_', '_', '_'], ['O[7326]', 'O[7327]', 'O[7328]', 'O[7329]', 'O[7330]', 'O[7331]', 'O[7332]', 'O[7333]', 'O[7339]', 'O[7335]', 'O[7334]', 'O[7338]', 'O[7336]', 'O[7340]', 'O[7337]', 'O[7341]', 'O[7346]', 'O[7342]', 'O[7343]', 'O[7344]', 'O[7345]', 'O[7347]', 'O[7348]', 'O[7349]', 'O[7350]', 'O[7352]', 'O[7353]', 'O[7351]', 'O[7354]', 'O[7355]', 'O[7356]', 'O[7357]', 'O[7359]', 'O[7360]', 'O[7358]', 'O[7361]', 'NG[7362]', 'O[7363]', 'O[7364]', 'O[7365]', 'O[7366]', 'NG[7367]', 'O[7368]', 'O[7369]', 'O[7370]', 'O[7371]', 'O[7372]', 'O[7373]', 'O[7374]', 'NG[7375]', 'O[7379]', 'O[7376]', 'O[7377]', 'O[7378]', 'O[7381]', 'O[7380]', 'O[7382]', 'O[7384]', 'O[7386]', 'O[7387]', 'O[7388]', 'O[7383]', 'O[7385]', 'O[7389]', 'O[7390]', 'O[7394]', 'O[7391]', 'O[7392]', 'O[7393]', 'O[7395]', 'O[7396]']]\n",
      "\n",
      "['you', 'get', 'what', 'you', 'paid', '.', 'harga', 'total', 'untuk', '3', 'kamar', '1', 'malam', 'cuma', '324000', '(', 'pakai', 'promo', 'airy', ')', 'dan', 'di', 'daerah', 'kemang', '!', 'lokasi', 'oke', ',', 'dekat', 'kemang', '.', 'kamar', 'lumayan', 'besar', 'tetapi', 'agak', 'tidak', 'sesuai', 'foto', '.', 'karena', 'bangunannya', 'rumah', ',', 'ukuran', 'kamar', 'berbeda', '-', 'beda', '.', 'kolam', 'renang', 'oke', '.', 'tidak', 'ada', 'air', 'panas', 'untuk', 'mandi', 'dan', 'wifi', 'nya', 'tidak', 'jalan', '(', 'padahal', 'username', 'dan', 'password', 'sudah', 'benar', ')', '.']\n",
      "\n",
      "[['_', '_', '_', '_', '_', '_', '_', '_', '_', '_', '_', '_', '_', '_', '_', '_', '_', '_', '_', '_', '_', '_', '_', '_', '_', 'ASPECT[9058]', 'SENTIMENT[9063]', '_', '_', '_', '_', 'ASPECT[9059]', 'SENTIMENT[9064]', 'SENTIMENT[9064]', '_', 'SENTIMENT[9065]', 'SENTIMENT[9065]', 'SENTIMENT[9065]', 'SENTIMENT[9065]', '_', '_', '_', '_', '_', '_', '_', '_', '_', '_', '_', 'ASPECT[9060]', 'ASPECT[9060]', 'SENTIMENT[9066]', '_', 'SENTIMENT[9067]', 'SENTIMENT[9067]', 'ASPECT[9061]', 'ASPECT[9061]', '_', '_', '_', 'ASPECT[9062]', 'ASPECT[9062]', 'SENTIMENT[9068]', 'SENTIMENT[9068]', '_', '_', '_', '_', '_', '_', '_', '_', '_'], ['O[9069]', 'O[9070]', 'O[9071]', 'O[9072]', 'O[9073]', 'O[9074]', 'O[9075]', 'O[9076]', 'O[9077]', 'O[9078]', 'O[9080]', 'O[9082]', 'O[9081]', 'O[9088]', 'O[9079]', 'O[9083]', 'O[9087]', 'O[9084]', 'O[9085]', 'O[9086]', 'O[9091]', 'O[9089]', 'O[9090]', 'O[9092]', 'O[9093]', 'PO[9094]', 'O[9095]', 'O[9096]', 'O[9098]', 'O[9099]', 'O[9097]', 'CF[9100]', 'O[9101]', 'O[9102]', 'O[9103]', 'O[9104]', 'O[9105]', 'O[9107]', 'O[9106]', '_', 'O[9108]', 'O[9109]', 'O[9111]', 'O[9110]', 'O[9112]', 'O[9113]', 'O[9114]', 'O[9115]', 'O[9116]', 'O[9117]', 'PO[9118]', 'PO[9119]', 'O[9120]', 'O[9121]', 'O[9122]', 'O[9123]', 'NG[9124]', 'NG[9125]', 'O[9126]', 'O[9127]', 'O[9128]', 'NG[9129]', 'NG[9130]', 'O[9131]', 'O[9132]', 'O[9137]', 'O[9133]', 'O[9134]', 'O[9136]', 'O[9135]', 'O[9138]', 'O[9139]', 'O[9140]', 'O[9141]']]\n",
      "\n",
      "['kondisi', 'kamar', 'tidak', 'sesuai', 'dengan', 'di', 'foto', ',', 'tirainya', 'kelihatan', 'lusuh', 'dan', 'kotor', ',', 'dan', 'handuk', 'tidak', 'di', 'ganti', 'keesokan', 'harinya', '(', 'kami', 'menginap', '2', 'malam', ',', 'tetapi', 'lokasi', 'strategis', ',', 'transportasinya', 'mudah', 'dan', 'dekat', 'dengan', 'mini', 'market', 'juga', 'banyak', 'warung', 'dan', 'restoran', 'terutama', 'warung', 'tenda', 'di', 'malam', 'hari', '.', 'berhubung', 'emotikokon', 'hanya', 'ada', '2', 'pilihan', ',', 'mengecewakan', 'atau', 'memuaskan', 'dan', 'tidak', 'bisa', 'diganti', ',', 'jadi', 'iya', 'apa', 'yang', 'sudah', 'tertera', 'saja', '.']\n",
      "\n",
      "[['_', 'ASPECT[13326]', 'SENTIMENT[13331]', 'SENTIMENT[13331]', '_', '_', '_', '_', 'ASPECT[13327]', 'SENTIMENT[13332]', 'SENTIMENT[13332]', '_', 'SENTIMENT[13333]', '_', '_', 'ASPECT[13328]', 'SENTIMENT[13334]', 'SENTIMENT[13334]', 'SENTIMENT[13334]', '_', '_', '_', '_', '_', '_', '_', '_', '_', 'ASPECT[13329]', 'SENTIMENT[13335]', '_', 'ASPECT[13330]', 'SENTIMENT[13336]', '_', '_', '_', '_', '_', '_', '_', '_', '_', '_', '_', '_', '_', '_', '_', '_', '_', '_', '_', '_', '_', '_', '_', '_', '_', '_', '_', '_', '_', '_', '_', '_', '_', '_', '_', '_', '_', '_', '_', '_'], ['O[13338]', 'O[13337]', '_', 'O[13339]', 'O[13340]', 'O[13341]', 'O[13342]', 'O[13343]', 'NG[13344]', 'O[13345]', 'O[13346]', 'O[13347]', 'O[13348]', 'O[13349]', 'O[13350]', 'NG[13351]', 'O[13352]', 'O[13353]', 'O[13354]', 'O[13355]', 'O[13356]', 'O[13357]', 'O[13358]', 'O[13359]', 'O[13360]', 'O[13361]', 'O[13363]', 'O[13362]', 'PO[13364]', 'O[13365]', 'O[13366]', 'PO[13367]', 'O[13368]', 'O[13369]', 'O[13370]', 'O[13371]', 'O[13372]', 'O[13373]', 'O[13374]', 'O[13375]', 'O[13376]', 'O[13377]', 'O[13378]', 'O[13379]', 'O[13380]', 'O[13381]', 'O[13382]', 'O[13383]', 'O[13384]', 'O[13385]', 'O[13386]', 'O[13387]', 'O[13388]', 'O[13389]', 'O[13390]', 'O[13391]', 'O[13392]', 'O[13393]', 'O[13394]', 'O[13395]', 'O[13396]', 'O[13397]', 'O[13398]', 'O[13399]', 'O[13400]', 'O[13401]', 'O[13402]', 'O[13405]', 'O[13408]', 'O[13404]', 'O[13403]', 'O[13406]', 'O[13407]']]\n",
      "\n",
      "['profesional', ':', 'kamar', 'luas', ',', 'dekat', 'dengan', 'kuliner', 'dengan', 'various', 'range', 'harga', '.', '(', 'kambing', 'bang', 'moody', '-', 'warung', 'tegal', ')', '.', 'dekat', '2', 'minimart', 'kolam', 'renang', 'kalau', 'punya', 'waktu', '.', 'ada', 'snack', 'gratis', 'cons', ':', 'bangunan', 'lama', ',', 'serasa', 'di', 'film', 'tahun', '70', '-', '80an', ',', 'agak', 'kotor', 'tetapi', 'masih', 'acceptable', '.', 'air', 'minum', 'di', 'luar', 'kamar', '.', 'staf', 'kurang', 'profesional', '.', 'tetapi', 'overall', 'cost', 'to', 'value', 'ratio', 'oke', 'banget', '.']\n",
      "\n",
      "[['_', '_', 'ASPECT[21762]', 'SENTIMENT[21768]', '_', '_', '_', '_', '_', '_', '_', '_', '_', '_', '_', '_', '_', '_', '_', '_', '_', '_', '_', '_', '_', '_', '_', '_', '_', '_', '_', 'SENTIMENT[21769]', 'ASPECT[21763]', 'ASPECT[21763]', '_', '_', 'ASPECT[21764]', 'SENTIMENT[21770]', '_', '_', '_', '_', '_', '_', '_', '_', '_', 'SENTIMENT[21771]', 'SENTIMENT[21771]', '_', 'SENTIMENT[21772]', 'SENTIMENT[21772]', '_', 'ASPECT[21765]', '_', '_', '_', '_', '_', 'ASPECT[21766]', 'SENTIMENT[21773]', 'SENTIMENT[21773]', '_', '_', 'ASPECT[21767]', '_', '_', '_', '_', 'SENTIMENT[21774]', 'SENTIMENT[21774]', '_'], ['_', '_', '_', '_', '_', '_', '_', '_', '_', '_', '_', '_', '_', '_', '_', '_', '_', '_', '_', '_', '_', '_', '_', '_', '_', '_', '_', '_', '_', '_', '_', '_', '_', '_', '_', '_', '_', '_', '_', '_', '_', '_', '_', '_', '_', '_', '_', '_', '_', '_', '_', '_', '_', '_', '_', '_', '_', '_', '_', '_', '_', '_', '_', '_', '_', '_', '_', '_', '_', '_', '_', '_']]\n",
      "\n",
      "['awal', 'sudah', 'senang', 'karena', 'dikasih', 'welcome', 'cokelat', ',', 'tetapi', 'kecewa', 'berlipat', 'lipat', 'karena', 'kamar', 'tidak', 'sesuai', 'di', 'foto', 'dan', 'ulasan', 'pada', 'traveloka', ',', 'kamarnya', 'bau', ',', 'banyak', 'semut', 'di', 'tempat', 'tidur', ',', 'ac', 'tidak', 'nyala', 'panas', 'banget', ',', 'menang', 'di', 'tv', 'saja', 'yang', 'besar', ',', 'kamar', 'mandi', 'tidak', 'sempat', 'saya', 'pakai', 'karena', 'saya', 'sekarang', 'siap', 'siap', 'mau', 'check', 'out', 'pindah', 'hotel', 'saja', ',', 'nyesal', 'sudah', 'bayar', 'buat', '3', 'malam', 'dan', 'tidak', 'bisa', 'direfund', '.']\n",
      "\n",
      "[['_', '_', '_', '_', '_', '_', '_', '_', '_', 'SENTIMENT[25506]', '_', '_', '_', 'ASPECT[25502]', 'SENTIMENT[25507]', 'SENTIMENT[25507]', '_', '_', '_', '_', '_', '_', '_', 'ASPECT[25503]', 'SENTIMENT[25508]', '_', 'SENTIMENT[25509]', 'SENTIMENT[25509]', '_', 'ASPECT[25504]', 'ASPECT[25504]', '_', 'ASPECT[25505]', 'SENTIMENT[25510]', 'SENTIMENT[25510]', 'SENTIMENT[25511]', 'SENTIMENT[25511]', '_', '_', '_', '_', '_', '_', '_', '_', '_', '_', '_', '_', '_', '_', '_', '_', '_', '_', '_', '_', '_', '_', '_', '_', '_', '_', '_', '_', '_', '_', '_', '_', '_', '_', '_', '_', '_'], ['_', '_', '_', '_', '_', '_', '_', '_', '_', '_', '_', '_', '_', '_', '_', '_', '_', '_', '_', '_', '_', '_', '_', '_', '_', '_', '_', '_', '_', '_', '_', '_', '_', '_', '_', '_', '_', '_', '_', '_', '_', '_', '_', '_', '_', '_', '_', '_', '_', '_', '_', '_', '_', '_', '_', '_', '_', '_', '_', '_', '_', '_', '_', '_', '_', '_', '_', '_', '_', '_', '_', '_', '_', '_']]\n",
      "\n",
      "['saya', 'menginap', 'di', 'sini', 'dalam', 'perjalanan', 'saya', 'dari', 'balikpapan', 'menuju', 'kalimantan', 'utara', 'dari', 'luar', ',', 'hotel', 'terlihat', 'bagus', 'dan', 'mewah', ',', 'demikian', 'juga', 'ketika', 'masuk', 'ke', 'dalam', 'ada', 'lift', '.', 'kamar', 'juga', 'cukup', 'luas', 'dan', 'nyaman', '.', 'kebersihan', 'juga', 'cukup', 'baik', '.', 'wifi', '.', 'kebetulan', 'pada', 'waktu', 'kami', 'menginap', 'tidak', 'terlalu', 'baik', 'air', 'panas', 'juga', 'kurang', 'stabil', ',', 'kadang', 'menjadi', 'panas', 'sekali', ',', 'kadang', 'dingin', '.', 'breakfast', 'juga', 'cukup', 'baik', '.']\n",
      "\n",
      "[['_', '_', '_', '_', '_', '_', '_', '_', '_', '_', '_', '_', '_', '_', '_', 'ASPECT[30612]', '_', 'SENTIMENT[30618]', '_', 'SENTIMENT[30619]', '_', '_', '_', '_', '_', '_', '_', '_', '_', '_', 'ASPECT[30613]', '_', 'SENTIMENT[30620]', 'SENTIMENT[30620]', '_', 'SENTIMENT[30621]', '_', 'ASPECT[30614]', '_', 'SENTIMENT[30622]', 'SENTIMENT[30622]', '_', 'ASPECT[30615]', '_', '_', '_', '_', '_', '_', 'SENTIMENT[30623]', 'SENTIMENT[30623]', 'SENTIMENT[30623]', 'ASPECT[30616]', 'ASPECT[30616]', '_', 'SENTIMENT[30624]', 'SENTIMENT[30624]', '_', '_', '_', '_', '_', '_', '_', '_', '_', 'ASPECT[30617]', '_', 'SENTIMENT[30625]', 'SENTIMENT[30625]', '_'], ['_', '_', '_', '_', '_', '_', '_', '_', '_', '_', '_', '_', '_', '_', '_', '_', '_', '_', '_', '_', '_', '_', '_', '_', '_', '_', '_', '_', '_', '_', '_', '_', '_', '_', '_', '_', '_', '_', '_', '_', '_', '_', '_', '_', '_', '_', '_', '_', '_', '_', '_', '_', '_', '_', '_', '_', '_', '_', '_', '_', '_', '_', '_', '_', '_', '_', '_', '_', '_', '_', '_']]\n",
      "\n",
      "6\n"
     ]
    }
   ],
   "source": [
    "count = 0\n",
    "for i in range(len(length)):\n",
    "    if length[i] > 70 and length[i] <= 75:\n",
    "        print(data[i])        \n",
    "        print()\n",
    "        print(labels[i])\n",
    "        print()\n",
    "        count += 1\n",
    "print(count)"
   ]
  },
  {
   "cell_type": "code",
   "execution_count": null,
   "metadata": {},
   "outputs": [],
   "source": []
  }
 ],
 "metadata": {
  "kernelspec": {
   "display_name": "Python 3",
   "language": "python",
   "name": "python3"
  },
  "language_info": {
   "codemirror_mode": {
    "name": "ipython",
    "version": 3
   },
   "file_extension": ".py",
   "mimetype": "text/x-python",
   "name": "python",
   "nbconvert_exporter": "python",
   "pygments_lexer": "ipython3",
   "version": "3.5.3"
  }
 },
 "nbformat": 4,
 "nbformat_minor": 4
}
