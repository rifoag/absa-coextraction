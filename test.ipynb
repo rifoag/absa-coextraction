{
 "cells": [
  {
   "cell_type": "code",
   "execution_count": null,
   "metadata": {},
   "outputs": [],
   "source": [
    "from model.doer import Coextractor\n",
    "from model.feature_extractor import FeatureExtractor\n",
    "from config import Config\n",
    "from utils import load_data, prep_train_data, load_lexicon\n",
    "\n",
    "from sklearn.model_selection import train_test_split\n",
    "\n",
    "from tensorflow.keras.backend import clear_session\n",
    "import argparse\n",
    "import numpy as np\n",
    "import time\n",
    "\n",
    "from datetime import timedelta\n",
    "import csv"
   ]
  },
  {
   "cell_type": "code",
   "execution_count": null,
   "metadata": {},
   "outputs": [],
   "source": [
    "np.random.seed(42)\n",
    "clear_session()\n",
    "\n",
    "train_data = 'dataset/train_4k.txt'\n",
    "test_data = 'dataset/test_1k.txt'\n",
    "mpqa_lexicon_data = 'dataset/annotated/mpqa_lexicon.txt'\n",
    "general_embedding_model = '../word_embedding/general_embedding/general_embedding_300.model'\n",
    "domain_embedding_model = '../word_embedding/domain_embedding/domain_embedding_100.model'\n",
    "config = Config()\n",
    "config.mpqa_lexicon = load_lexicon(mpqa_lexicon_data)\n",
    "\n",
    "X, y = load_data(train_data)\n",
    "X_test, y_test = load_data(test_data)\n",
    "\n",
    "X_train, X_val, y_train, y_val = train_test_split(X, y, test_size=0.25, random_state=42)\n",
    "sentences = X_val\n",
    "\n",
    "feature_extractor = FeatureExtractor(general_embedding_model, domain_embedding_model, general_dim=config.dim_general, domain_dim=config.dim_domain)\n",
    "\n",
    "X_train, y_train = prep_train_data(X_train, y_train, feature_extractor, feature='double_embedding', config=config)\n",
    "\n",
    "X_test = feature_extractor.get_features(X_test, max_len=config.max_sentence_size)\n",
    "X_val, y_val2 = prep_train_data(X_val, y_val, feature_extractor, feature='double_embedding', config=config)\n",
    "\n",
    "coextractor = Coextractor(config)\n",
    "coextractor.load(\"saved_models/P3_Diff/P3_300_1_0.5_weights\")\n",
    "print(coextractor.model.summary())\n",
    "\n",
    "coextractor.evaluate(X_val, y_val)"
   ]
  },
  {
   "cell_type": "code",
   "execution_count": null,
   "metadata": {},
   "outputs": [],
   "source": [
    "sample_sentence = 'ac nya tidak dingin. kamar sempit tapi wajar untuk harga segitu'\n",
    "sample_sentence2 = 'pelayanan ramah, kamar bersih, kasur empuk. tetapi kamar mandi nya kotor'\n",
    "print(coextractor.predict_one(sample_sentence, feature_extractor))\n",
    "print(coextractor.predict_one(sample_sentence2, feature_extractor))"
   ]
  },
  {
   "cell_type": "code",
   "execution_count": null,
   "metadata": {},
   "outputs": [],
   "source": [
    "def load_data(filename):\n",
    "    data = []\n",
    "    with open(filename, encoding='utf-8') as f:\n",
    "        for line in f:\n",
    "            line = line.rstrip()\n",
    "            if line:\n",
    "                data.append(line)\n",
    "\n",
    "    return data\n",
    "\n",
    "\n",
    "def write_data_and_predictions(data, predictions):\n",
    "    with open('output_pred.tsv', 'wt') as out_file:\n",
    "        tsv_writer = csv.writer(out_file, delimiter='\\t')\n",
    "        for sentence, prediction in zip(data, predictions):\n",
    "            tsv_writer.writerow([sentence, prediction])    "
   ]
  },
  {
   "cell_type": "code",
   "execution_count": null,
   "metadata": {},
   "outputs": [],
   "source": [
    "data = load_data('reviews_sample.txt')\n",
    "predictions = []\n",
    "for sentence in data:\n",
    "    predictions.append(coextractor.predict_one(sentence, feature_extractor))\n",
    "    \n",
    "write_data_and_predictions(data, predictions)"
   ]
  }
 ],
 "metadata": {
  "kernelspec": {
   "display_name": "Python 3",
   "language": "python",
   "name": "python3"
  },
  "language_info": {
   "codemirror_mode": {
    "name": "ipython",
    "version": 3
   },
   "file_extension": ".py",
   "mimetype": "text/x-python",
   "name": "python",
   "nbconvert_exporter": "python",
   "pygments_lexer": "ipython3",
   "version": "3.8.3"
  }
 },
 "nbformat": 4,
 "nbformat_minor": 4
}
